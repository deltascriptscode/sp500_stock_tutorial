{
 "cells": [
  {
   "cell_type": "code",
   "execution_count": 1,
   "metadata": {
    "scrolled": true
   },
   "outputs": [],
   "source": [
    "import pandas as pd\n",
    "from tqdm import tqdm\n",
    "from database.market import Market\n",
    "from database.sim import Sim\n",
    "from transformer.model_transformer import ModelTransformer\n",
    "from transformer.simulation_transformer import SimulationTransformer\n",
    "from preprocessor.model_preprocessor import ModelPreprocessor\n",
    "from database.sec import SEC\n",
    "from modeler.modeler import Modeler\n",
    "import matplotlib.pyplot as plt\n",
    "import warnings\n",
    "import pickle\n",
    "from statistics import variance\n",
    "warnings.simplefilter(action='ignore', category=Warning)\n",
    "from datetime import datetime, timezone, timedelta"
   ]
  },
  {
   "cell_type": "code",
   "execution_count": 2,
   "metadata": {},
   "outputs": [],
   "source": [
    "sec = SEC()\n",
    "market = Market(\"market\")\n",
    "sim = Sim(\"sim\")\n",
    "end = \"2020-11-01\"\n",
    "start = \"2009-01-01\"\n",
    "market.connect()\n",
    "tickers = market.retrieve_data(\"sp500\")\n",
    "market.close()"
   ]
  },
  {
   "cell_type": "code",
   "execution_count": 3,
   "metadata": {},
   "outputs": [
    {
     "name": "stderr",
     "output_type": "stream",
     "text": [
      "100%|███████████████████████████████████████████████████████████████████████████████████████████████████████████████████████| 4/4 [1:17:06<00:00, 1156.59s/it]\n"
     ]
    }
   ],
   "source": [
    "sec.connect()\n",
    "market.connect()\n",
    "sim.connect()\n",
    "sim.drop_table(\"sim\")\n",
    "sim.drop_table(\"errors\")\n",
    "reporting_gap = 365\n",
    "training_years = 7\n",
    "for year in tqdm(range(2010+training_years,2021)):\n",
    "    for quarter in range(1,5):\n",
    "        for i in (range(len(tickers[\"Symbol\"]))):\n",
    "            try:\n",
    "                ticker = tickers.iloc[i][\"Symbol\"]\n",
    "                cik = int(tickers.iloc[i][\"CIK\"])\n",
    "                price = market.retrieve_price_data(ticker)\n",
    "                funds = sec.retrieve_filing_data(cik)\n",
    "                st = SimulationTransformer(ticker,start,end,reporting_gap)\n",
    "                mr = ModelPreprocessor(ticker)\n",
    "                mt = ModelTransformer(ticker,start,end,reporting_gap,training_years)\n",
    "                data = mt.merge(price.copy(),funds.copy(),year,quarter,\" \")\n",
    "                refined = mr.fundamental_preprocess(data)\n",
    "                sp = Modeler(ticker)\n",
    "                results = sp.model(refined)\n",
    "                results[\"gap\"] = reporting_gap\n",
    "                result_df = pd.DataFrame([results])\n",
    "                product = st.merge(price.copy(),funds.copy(),year,quarter,\" \")\n",
    "                p_features = mr.fundamental_preprocess(product)[\"X\"]\n",
    "                product[\"predicted\"] = pickle.loads(results[\"model\"]).predict(p_features)\n",
    "                product = product[[\"date\",\"adjclose\",\"quarter\",\"year\",\"predicted\"]]\n",
    "                product[\"ticker\"] = ticker\n",
    "                product[\"score\"] = results[\"score\"]\n",
    "                sim.store_data(\"sim\",product)\n",
    "            except Exception as e:\n",
    "                message = {\"status\":\"modeling\",\"year\":year,\"quarter\":quarter,\"ticker\":ticker,\"message\":str(e)}\n",
    "                sim.store_data(\"errors\",pd.DataFrame([message]))\n",
    "market.close()\n",
    "sec.close()\n",
    "sim.close()"
   ]
  }
 ],
 "metadata": {
  "kernelspec": {
   "display_name": "Python 3",
   "language": "python",
   "name": "python3"
  },
  "language_info": {
   "codemirror_mode": {
    "name": "ipython",
    "version": 3
   },
   "file_extension": ".py",
   "mimetype": "text/x-python",
   "name": "python",
   "nbconvert_exporter": "python",
   "pygments_lexer": "ipython3",
   "version": "3.8.5"
  }
 },
 "nbformat": 4,
 "nbformat_minor": 4
}
