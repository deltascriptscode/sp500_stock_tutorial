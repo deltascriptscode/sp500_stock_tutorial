{
 "cells": [
  {
   "cell_type": "code",
   "execution_count": 16,
   "metadata": {},
   "outputs": [],
   "source": [
    "import pandas as pd\n",
    "from tqdm import tqdm\n",
    "from database.market import Market\n",
    "from database.sim import Sim\n",
    "import warnings\n",
    "warnings.simplefilter(action='ignore', category=Warning)\n",
    "import matplotlib.pyplot as plt\n",
    "from datetime import datetime, timedelta\n",
    "import math\n",
    "import numpy as np\n",
    "import statistics\n",
    "from sklearn.preprocessing import normalize"
   ]
  },
  {
   "cell_type": "code",
   "execution_count": 17,
   "metadata": {},
   "outputs": [],
   "source": [
    "strat_db = Sim(\"sim\")\n",
    "market = Market(\"market\")\n",
    "market.connect()\n",
    "sp5 = market.retrieve_data(\"sp500\")\n",
    "market.close()\n",
    "strat_db.connect()\n",
    "tse = strat_db.retrieve_data(\"epochs\")\n",
    "strat_db.close()"
   ]
  },
  {
   "cell_type": "code",
   "execution_count": 18,
   "metadata": {},
   "outputs": [],
   "source": [
    "seats = 20\n",
    "tsmc = \"full\"\n",
    "strat_db.connect()\n",
    "analysis = []\n",
    "for epoch in tse[\"epoch\"].unique():\n",
    "    epoch_dict = tse.iloc[epoch]\n",
    "    trades = strat_db.retrieve_data(\"trades_{}\".format(epoch))\n",
    "    if trades.index.size < 1:\n",
    "        continue\n",
    "    else:\n",
    "        for seat in range(1,seats+1):\n",
    "            initial = 100/seats\n",
    "            seat_trades = trades[trades[\"seat\"] == seat]\n",
    "            if seat_trades.index.size > 0:\n",
    "                for delta in seat_trades[\"sell_delta\"]:\n",
    "                    initial = initial * (1 + delta)\n",
    "                stg = seat_trades.groupby(\"seat\").mean().reset_index()[[\"adjclose\",\"sell_price\",\"seat\",\"sell_delta\"]]\n",
    "                stg[\"epoch\"] = epoch\n",
    "                stg[\"hpr\"] = statistics.mean([(row[1][\"sell_date\"] - row[1][\"date\"]).days for row in seat_trades.iterrows()])\n",
    "                stg[\"wdr\"] = epoch_dict[\"delta_req\"]\n",
    "                stg[\"pv\"] = initial\n",
    "                stg[\"trades\"] = seat_trades.index.size\n",
    "                stg[\"winrate\"] = seat_trades[seat_trades[\"sell_delta\"] > 0].index.size / seat_trades.index.size\n",
    "                stg[\"delta\"] = seat_trades[\"sell_delta\"].mean()\n",
    "                analysis.append(stg)\n",
    "strat_db.close()"
   ]
  },
  {
   "cell_type": "code",
   "execution_count": 19,
   "metadata": {},
   "outputs": [],
   "source": [
    "a = pd.concat(analysis)\n",
    "metric = \"pv\"\n",
    "index_cols = [\"epoch\",\"wdr\"]\n",
    "apt = a.pivot_table(index=index_cols,columns=\"seat\",values=metric)\n",
    "apt.fillna(1000/seats,inplace=True)\n",
    "if metric == \"pv\":\n",
    "    apt[metric] = [sum([row[1][i] for i in range(1,seats+1)]) for row in apt.iterrows()]\n",
    "else:\n",
    "    apt[metric] = [statistics.mean([row[1][i] for i in range(1,seats+1)]) for row in apt.iterrows()]\n",
    "apt.reset_index(inplace=True)"
   ]
  },
  {
   "cell_type": "code",
   "execution_count": 20,
   "metadata": {},
   "outputs": [
    {
     "data": {
      "text/html": [
       "<div>\n",
       "<style scoped>\n",
       "    .dataframe tbody tr th:only-of-type {\n",
       "        vertical-align: middle;\n",
       "    }\n",
       "\n",
       "    .dataframe tbody tr th {\n",
       "        vertical-align: top;\n",
       "    }\n",
       "\n",
       "    .dataframe thead th {\n",
       "        text-align: right;\n",
       "    }\n",
       "</style>\n",
       "<table border=\"1\" class=\"dataframe\">\n",
       "  <thead>\n",
       "    <tr style=\"text-align: right;\">\n",
       "      <th>seat</th>\n",
       "      <th>epoch</th>\n",
       "      <th>wdr</th>\n",
       "      <th>1</th>\n",
       "      <th>2</th>\n",
       "      <th>3</th>\n",
       "      <th>4</th>\n",
       "      <th>5</th>\n",
       "      <th>6</th>\n",
       "      <th>7</th>\n",
       "      <th>8</th>\n",
       "      <th>...</th>\n",
       "      <th>12</th>\n",
       "      <th>13</th>\n",
       "      <th>14</th>\n",
       "      <th>15</th>\n",
       "      <th>16</th>\n",
       "      <th>17</th>\n",
       "      <th>18</th>\n",
       "      <th>19</th>\n",
       "      <th>20</th>\n",
       "      <th>pv</th>\n",
       "    </tr>\n",
       "  </thead>\n",
       "  <tbody>\n",
       "    <tr>\n",
       "      <th>2</th>\n",
       "      <td>2</td>\n",
       "      <td>15</td>\n",
       "      <td>34.521651</td>\n",
       "      <td>56.660597</td>\n",
       "      <td>32.773189</td>\n",
       "      <td>43.558647</td>\n",
       "      <td>37.657906</td>\n",
       "      <td>30.640867</td>\n",
       "      <td>51.936346</td>\n",
       "      <td>50.866150</td>\n",
       "      <td>...</td>\n",
       "      <td>163.660412</td>\n",
       "      <td>35.514775</td>\n",
       "      <td>47.128365</td>\n",
       "      <td>48.723573</td>\n",
       "      <td>64.895138</td>\n",
       "      <td>31.476583</td>\n",
       "      <td>45.205735</td>\n",
       "      <td>32.800769</td>\n",
       "      <td>32.588356</td>\n",
       "      <td>1002.550310</td>\n",
       "    </tr>\n",
       "    <tr>\n",
       "      <th>1</th>\n",
       "      <td>1</td>\n",
       "      <td>10</td>\n",
       "      <td>31.141733</td>\n",
       "      <td>49.860820</td>\n",
       "      <td>53.315302</td>\n",
       "      <td>25.839506</td>\n",
       "      <td>53.774720</td>\n",
       "      <td>67.326557</td>\n",
       "      <td>37.528668</td>\n",
       "      <td>69.395988</td>\n",
       "      <td>...</td>\n",
       "      <td>38.996247</td>\n",
       "      <td>32.554542</td>\n",
       "      <td>46.517975</td>\n",
       "      <td>27.756178</td>\n",
       "      <td>60.471866</td>\n",
       "      <td>118.128317</td>\n",
       "      <td>33.236542</td>\n",
       "      <td>60.133235</td>\n",
       "      <td>17.884364</td>\n",
       "      <td>922.779308</td>\n",
       "    </tr>\n",
       "    <tr>\n",
       "      <th>3</th>\n",
       "      <td>3</td>\n",
       "      <td>20</td>\n",
       "      <td>48.548193</td>\n",
       "      <td>35.385168</td>\n",
       "      <td>32.749667</td>\n",
       "      <td>47.337233</td>\n",
       "      <td>49.968912</td>\n",
       "      <td>28.412231</td>\n",
       "      <td>39.982822</td>\n",
       "      <td>59.825762</td>\n",
       "      <td>...</td>\n",
       "      <td>45.338244</td>\n",
       "      <td>19.826157</td>\n",
       "      <td>51.777020</td>\n",
       "      <td>43.324259</td>\n",
       "      <td>24.279855</td>\n",
       "      <td>59.369221</td>\n",
       "      <td>59.308285</td>\n",
       "      <td>49.638115</td>\n",
       "      <td>27.742946</td>\n",
       "      <td>921.058454</td>\n",
       "    </tr>\n",
       "    <tr>\n",
       "      <th>0</th>\n",
       "      <td>0</td>\n",
       "      <td>5</td>\n",
       "      <td>23.165249</td>\n",
       "      <td>41.533695</td>\n",
       "      <td>46.543542</td>\n",
       "      <td>25.496291</td>\n",
       "      <td>67.939552</td>\n",
       "      <td>35.094141</td>\n",
       "      <td>38.216890</td>\n",
       "      <td>55.872439</td>\n",
       "      <td>...</td>\n",
       "      <td>24.397308</td>\n",
       "      <td>19.697115</td>\n",
       "      <td>32.268805</td>\n",
       "      <td>30.237003</td>\n",
       "      <td>44.702073</td>\n",
       "      <td>68.015186</td>\n",
       "      <td>31.649709</td>\n",
       "      <td>45.349979</td>\n",
       "      <td>51.592821</td>\n",
       "      <td>770.011937</td>\n",
       "    </tr>\n",
       "  </tbody>\n",
       "</table>\n",
       "<p>4 rows × 23 columns</p>\n",
       "</div>"
      ],
      "text/plain": [
       "seat  epoch  wdr          1          2          3          4          5  \\\n",
       "2         2   15  34.521651  56.660597  32.773189  43.558647  37.657906   \n",
       "1         1   10  31.141733  49.860820  53.315302  25.839506  53.774720   \n",
       "3         3   20  48.548193  35.385168  32.749667  47.337233  49.968912   \n",
       "0         0    5  23.165249  41.533695  46.543542  25.496291  67.939552   \n",
       "\n",
       "seat          6          7          8  ...          12         13         14  \\\n",
       "2     30.640867  51.936346  50.866150  ...  163.660412  35.514775  47.128365   \n",
       "1     67.326557  37.528668  69.395988  ...   38.996247  32.554542  46.517975   \n",
       "3     28.412231  39.982822  59.825762  ...   45.338244  19.826157  51.777020   \n",
       "0     35.094141  38.216890  55.872439  ...   24.397308  19.697115  32.268805   \n",
       "\n",
       "seat         15         16          17         18         19         20  \\\n",
       "2     48.723573  64.895138   31.476583  45.205735  32.800769  32.588356   \n",
       "1     27.756178  60.471866  118.128317  33.236542  60.133235  17.884364   \n",
       "3     43.324259  24.279855   59.369221  59.308285  49.638115  27.742946   \n",
       "0     30.237003  44.702073   68.015186  31.649709  45.349979  51.592821   \n",
       "\n",
       "seat           pv  \n",
       "2     1002.550310  \n",
       "1      922.779308  \n",
       "3      921.058454  \n",
       "0      770.011937  \n",
       "\n",
       "[4 rows x 23 columns]"
      ]
     },
     "execution_count": 20,
     "metadata": {},
     "output_type": "execute_result"
    }
   ],
   "source": [
    "apt.sort_values(metric,ascending=False).head(50)"
   ]
  },
  {
   "cell_type": "code",
   "execution_count": 21,
   "metadata": {},
   "outputs": [],
   "source": [
    "strat_db.connect()\n",
    "trades = strat_db.retrieve_data(\"trades_{}\".format(0))\n",
    "strat_db.close()"
   ]
  },
  {
   "cell_type": "code",
   "execution_count": 22,
   "metadata": {},
   "outputs": [],
   "source": [
    "trades[\"year\"] = [x.year for x in trades[\"date\"]]\n",
    "ytyd = []\n",
    "trades.sort_values(\"date\",ascending=True,inplace=True)\n",
    "for seat in range(1,11):\n",
    "    initial = 10\n",
    "    for year in trades[\"year\"].unique():\n",
    "        year_trades = trades[(trades[\"year\"] == year) & (trades[\"seat\"] == seat)]\n",
    "        year_start = initial\n",
    "        for delta in year_trades[\"sell_delta\"]:\n",
    "            initial = initial * (1 + delta)\n",
    "        ytyd.append({\"year\":year,\"seat\":seat,\"start\":year_start,\"end\":initial,\"gain\":(initial-year_start)/initial})"
   ]
  },
  {
   "cell_type": "code",
   "execution_count": 23,
   "metadata": {},
   "outputs": [],
   "source": [
    "analysis = pd.DataFrame(ytyd).pivot_table(columns=\"seat\",index=\"year\",values=\"gain\")\n",
    "analysis[\"gain\"] = [statistics.mean([row[1][i] for i in range(1,10)]) for row in analysis.iterrows()]"
   ]
  },
  {
   "cell_type": "code",
   "execution_count": 24,
   "metadata": {},
   "outputs": [],
   "source": [
    "analysis.reset_index().set_index(\"year\",inplace=True)"
   ]
  },
  {
   "cell_type": "code",
   "execution_count": 25,
   "metadata": {},
   "outputs": [
    {
     "data": {
      "text/plain": [
       "[<matplotlib.lines.Line2D at 0x21f477e3f40>]"
      ]
     },
     "execution_count": 25,
     "metadata": {},
     "output_type": "execute_result"
    },
    {
     "data": {
      "image/png": "[encoded data removed]",
      "text/plain": [
       "<Figure size 432x288 with 1 Axes>"
      ]
     },
     "metadata": {
      "needs_background": "light"
     },
     "output_type": "display_data"
    }
   ],
   "source": [
    "plt.plot(analysis[\"gain\"])"
   ]
  }
 ],
 "metadata": {
  "kernelspec": {
   "display_name": "Python 3",
   "language": "python",
   "name": "python3"
  },
  "language_info": {
   "codemirror_mode": {
    "name": "ipython",
    "version": 3
   },
   "file_extension": ".py",
   "mimetype": "text/x-python",
   "name": "python",
   "nbconvert_exporter": "python",
   "pygments_lexer": "ipython3",
   "version": "3.8.5"
  }
 },
 "nbformat": 4,
 "nbformat_minor": 4
}
