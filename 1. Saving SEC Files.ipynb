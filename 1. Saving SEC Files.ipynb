{
 "cells": [
  {
   "cell_type": "code",
   "execution_count": 1,
   "metadata": {},
   "outputs": [],
   "source": [
    "from tqdm import tqdm\n",
    "from urllib.request import urlretrieve\n",
    "from zipfile import ZipFile \n",
    "import os\n",
    "from database.sec import SEC\n",
    "from pandas import DataFrame"
   ]
  },
  {
   "cell_type": "code",
   "execution_count": 2,
   "metadata": {
    "scrolled": true
   },
   "outputs": [
    {
     "name": "stderr",
     "output_type": "stream",
     "text": [
      " 92%|███████████████████████████████████████████████████████████████████████████▏      | 11/12 [10:00<01:02, 62.10s/it]"
     ]
    },
    {
     "name": "stdout",
     "output_type": "stream",
     "text": [
      "2020 1 HTTP Error 404: Not Found\n"
     ]
    },
    {
     "name": "stderr",
     "output_type": "stream",
     "text": [
      "100%|██████████████████████████████████████████████████████████████████████████████████| 12/12 [10:32<00:00, 52.69s/it]"
     ]
    },
    {
     "name": "stdout",
     "output_type": "stream",
     "text": [
      "2020 4 HTTP Error 404: Not Found\n"
     ]
    },
    {
     "name": "stderr",
     "output_type": "stream",
     "text": [
      "\n"
     ]
    }
   ],
   "source": [
    "os.makedirs(\"sec\",exist_ok=True)\n",
    "for year in tqdm(range(2009,2021)):\n",
    "    for quarter in range(1,5):        \n",
    "        try:\n",
    "            url = \"https://www.sec.gov/files/dera/data/financial-statement-data-sets/{}q{}.zip\".format(year,quarter)\n",
    "            filename = \"./sec/{}q{}.zip\".format(year,quarter)\n",
    "            urlretrieve(url, filename)\n",
    "            with ZipFile(filename, 'r') as zip_ref:\n",
    "                zip_ref.extractall(\"./sec/{}q{}\".format(year,quarter))\n",
    "        except Exception as e:\n",
    "            print(year,quarter,str(e))"
   ]
  },
  {
   "cell_type": "code",
   "execution_count": 4,
   "metadata": {},
   "outputs": [],
   "source": [
    "sec = SEC()\n",
    "data = DataFrame([{\"message\":\"hello world\"}])\n",
    "sec.connect()\n",
    "sec.store_data(\"test\",data)\n",
    "sec.close()"
   ]
  }
 ],
 "metadata": {
  "kernelspec": {
   "display_name": "Python 3",
   "language": "python",
   "name": "python3"
  },
  "language_info": {
   "codemirror_mode": {
    "name": "ipython",
    "version": 3
   },
   "file_extension": ".py",
   "mimetype": "text/x-python",
   "name": "python",
   "nbconvert_exporter": "python",
   "pygments_lexer": "ipython3",
   "version": "3.8.5"
  }
 },
 "nbformat": 4,
 "nbformat_minor": 4
}
