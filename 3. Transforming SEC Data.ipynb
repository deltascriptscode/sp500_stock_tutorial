{
 "cells": [
  {
   "cell_type": "code",
   "execution_count": 1,
   "metadata": {},
   "outputs": [],
   "source": [
    "from database.sec import SEC\n",
    "from transformer.fundamental_transformer import FundamentalTransformer\n",
    "from tqdm import tqdm\n",
    "import pandas as pd"
   ]
  },
  {
   "cell_type": "code",
   "execution_count": 2,
   "metadata": {},
   "outputs": [],
   "source": [
    "sec = SEC()"
   ]
  },
  {
   "cell_type": "code",
   "execution_count": 3,
   "metadata": {},
   "outputs": [],
   "source": [
    "sec.connect()\n",
    "subs = sec.retrieve_sub_cik()\n",
    "sec.close()"
   ]
  },
  {
   "cell_type": "code",
   "execution_count": 4,
   "metadata": {},
   "outputs": [
    {
     "name": "stderr",
     "output_type": "stream",
     "text": [
      " 47%|████████████████████████████████████████████████▌                                                       | 6174/13224 [2:50:27<51:57,  2.26it/s]c:\\users\\eric\\appdata\\local\\programs\\python\\python38\\lib\\site-packages\\pandas\\core\\reshape\\merge.py:618: UserWarning: merging between different levels can give an unintended result (2 levels on the left, 1 on the right)\n",
      "  warnings.warn(msg, UserWarning)\n"
     ]
    },
    {
     "name": "stdout",
     "output_type": "stream",
     "text": [
      "sec tutorial_filings documents must be a non-empty list\n"
     ]
    },
    {
     "name": "stderr",
     "output_type": "stream",
     "text": [
      "100%|███████████████████████████████████████████████████████████████████████████████████████████████████████| 13224/13224 [3:44:36<00:00,  1.02s/it]\n"
     ]
    }
   ],
   "source": [
    "names = subs[\"cik\"].unique()\n",
    "sec.connect()\n",
    "sec.drop_table(\"tutorial_filings\")\n",
    "for i in tqdm(range(len(names))):\n",
    "    try:\n",
    "        name = names[i]\n",
    "        values = subs[subs[\"cik\"] == name]\n",
    "        adshs = values[\"adsh\"].unique()\n",
    "        tables = []\n",
    "        for adsh in adshs:\n",
    "            try:\n",
    "                num = sec.retrieve_num_data(adsh)\n",
    "                table = FundamentalTransformer.transform(values,num)\n",
    "                sec.store_data(\"tutorial_filings\",table)\n",
    "                tables.append(table)\n",
    "            except:\n",
    "                continue\n",
    "    except Exception as e:\n",
    "        print(str(e))\n",
    "sec.close()"
   ]
  }
 ],
 "metadata": {
  "kernelspec": {
   "display_name": "Python 3",
   "language": "python",
   "name": "python3"
  },
  "language_info": {
   "codemirror_mode": {
    "name": "ipython",
    "version": 3
   },
   "file_extension": ".py",
   "mimetype": "text/x-python",
   "name": "python",
   "nbconvert_exporter": "python",
   "pygments_lexer": "ipython3",
   "version": "3.8.5"
  }
 },
 "nbformat": 4,
 "nbformat_minor": 4
}
